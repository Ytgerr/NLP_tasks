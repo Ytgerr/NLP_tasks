{
 "cells": [
  {
   "cell_type": "code",
   "execution_count": 144,
   "id": "d5b1e906",
   "metadata": {},
   "outputs": [],
   "source": [
    "import numpy as np\n",
    "from scipy.stats import chi2, norm, expon"
   ]
  },
  {
   "cell_type": "markdown",
   "id": "fc533d14",
   "metadata": {},
   "source": [
    "### Implement Ranking Metrics\n",
    "#### Normalized Discounted Cumulative Gain\n",
    "##### Algorithm: \n",
    "1) Calculate DCG (Discounted Cumulative Gain) at\\( k \\):\n",
    "\n",
    "$$ \\text{DCG}_k = \\sum_{i=1}^{k} \\frac{rel_i}{\\log_2(i + 1)} $$\n",
    "\n",
    "2) Calculate ideal DCG (IDCG) — This is the DCG calculated for the ideal (descending sorted) relevance list:\n",
    "\n",
    "$$ \\text{IDCG}_k = \\sum_{i=1}^{k} \\frac{rel_i^{*}}{\\log_2(i + 1)} $$\n",
    "\n",
    "3) Calculate normalized DCG (NDCG):\n",
    "\n",
    "$$ \\text{NDCG}_k = \\frac{\\text{DCG}_k}{\\text{IDCG}_k} $$\n",
    "\n",
    "#### F_beta score\n",
    "\n",
    "1) Compute precision at top k on formula\n",
    "\n",
    "$$\n",
    "\\text{Precision@k} = \\frac{\\text{number of recommended relevant items among top k}}{\\text{number of recommended items k}}\n",
    "$$\n",
    "\n",
    "2) Compute recall at top k on formula\n",
    "$$\n",
    "\\text{Recall@k} = \\frac{\\text{number of recommended relevant items among top k}}{\\text{number of all relevant items in the system}}\n",
    "$$\n",
    "\n",
    "3) Calculate F_beta score at top k on formula:\n",
    "\n",
    "$$ F_\\beta = (1 + \\beta^2) \\cdot \\frac{\\text{Precision@k} \\cdot \\text{Recall@k}}{(\\beta^2 \\cdot \\text{Precision@k}) + \\text{Recall@k}} $$\n",
    "\n",
    "\n",
    "#### Reciprocal Rank\n",
    "\n",
    "1) Find position of first relevant result\n",
    "2) Calculate\n",
    "$$ \\text{RR} = \\frac{1}{\\text{first relevan result}}$$"
   ]
  },
  {
   "cell_type": "code",
   "execution_count": 145,
   "id": "620e1b44",
   "metadata": {},
   "outputs": [],
   "source": [
    "class Ranking:\n",
    "    def __init__(self, search_result):\n",
    "        self.result = search_result\n",
    "        \n",
    "    def _discounted_cumulative_gain(self, result, k):\n",
    "        result =  np.asarray(result)[:k]\n",
    "        denom = np.log2(np.arange(2, k + 2))\n",
    "        return np.sum(result / denom)\n",
    "    \n",
    "    def normalized_discounted_cumulative_gain(self, k):\n",
    "        ideal_result = sorted(self.result, reverse=True)\n",
    "        dsg = self._discounted_cumulative_gain(self.result, k)\n",
    "        idsg = self._discounted_cumulative_gain(ideal_result, k)\n",
    "        if (idsg == 0):\n",
    "            return 0.0\n",
    "        return dsg / idsg\n",
    "    \n",
    "    def _precision(self, k):\n",
    "        return sum(self.result[:k]) / k\n",
    "    \n",
    "    def _recall(self, k):\n",
    "        return sum(self.result[:k]) / sum(self.result)\n",
    "    \n",
    "    def F_beta_score(self, k, beta):\n",
    "        precision = self._precision(k)\n",
    "        recall = self._recall(k)\n",
    "        if precision + recall == 0:\n",
    "            return 0.0\n",
    "        score = ((1 + beta ** 2) * precision * recall ) / ((beta ** 2 * precision) + recall) \n",
    "        return score\n",
    "    \n",
    "    def reciprocal_rank(self):\n",
    "        result = np.array(self.result)\n",
    "        index = np.where(result == 1)[0]\n",
    "        return 1 / (index[0] + 1) \n"
   ]
  },
  {
   "cell_type": "markdown",
   "id": "2f98c185",
   "metadata": {},
   "source": [
    "### Function which generate search results using one of random distributions.\n",
    "- Chi-Squared distribution\n",
    "- Normal distribution\n",
    "- Exponential distribution\n",
    "### Steps:\n",
    "1) Generate continuous values ​​(float) from a distribution.\n",
    "2) Binarize them using a threshold. (\n",
    "The top 30% will be considered relevant.)"
   ]
  },
  {
   "cell_type": "code",
   "execution_count": 146,
   "id": "77f0b73b",
   "metadata": {},
   "outputs": [],
   "source": [
    "def Generate_search_result(size, distribution=\"chi2\"):\n",
    "    match distribution:\n",
    "        case \"chi2\":\n",
    "            chi = chi2.rvs(df=2, size=size)\n",
    "            threshold = np.percentile(chi, 75)\n",
    "            return (chi > threshold).astype(int)\n",
    "        \n",
    "        case \"norm\":\n",
    "            normal =  norm(loc = 0, scale=1.0).rvs(size=size)  \n",
    "            threshold = np.percentile(normal, 75)\n",
    "            return (normal > threshold).astype(int)\n",
    "        \n",
    "        case \"exponential\":\n",
    "            exp = expon(scale=1.0).rvs(size=size)  \n",
    "            threshold = np.percentile(exp, 75)\n",
    "            return (exp > threshold).astype(int)\n"
   ]
  },
  {
   "cell_type": "markdown",
   "id": "d9ae49e8",
   "metadata": {},
   "source": [
    "### Evaluate ranking metrics for search results generated from 3 different distributions."
   ]
  },
  {
   "cell_type": "code",
   "execution_count": 169,
   "id": "07e3da19",
   "metadata": {},
   "outputs": [
    {
     "name": "stdout",
     "output_type": "stream",
     "text": [
      "Normalized_discounted_cumulative_gain at 10 for 3 different distribution:\n",
      "Chi2 distribution search result: 0.14926017916129347\n",
      "Normal distriburion search result: 0.15291137700635812\n",
      "Exponential distribution search result: 0.24753108135216337\n",
      "\n",
      "F_beta score at 10 for 3 different distribution:\n",
      "Chi2 distribution search result: 0.20833333333333334\n",
      "Normal distriburion search result: 0.20833333333333334\n",
      "Exponential distribution search result: 0.3125\n",
      "\n",
      "Reciprocal Rank for 3 different distribution:\n",
      "Chi2 distribution search result: 0.1111111111111111\n",
      "Normal distriburion search result: 0.125\n",
      "Exponential distribution search result: 0.16666666666666666\n"
     ]
    }
   ],
   "source": [
    "chi_distribution = Generate_search_result(30, distribution=\"chi2\")\n",
    "norm_distribution = Generate_search_result(30, distribution=\"norm\")\n",
    "expon_distribution = Generate_search_result(30, distribution=\"exponential\")\n",
    "\n",
    "chi_ranking = Ranking(chi_distribution)\n",
    "norm_ranking = Ranking(norm_distribution)\n",
    "expon_ranking = Ranking(expon_distribution)\n",
    "\n",
    "print(\"Normalized_discounted_cumulative_gain at 10 for 3 different distribution:\")\n",
    "print(\"Chi2 distribution search result:\", chi_ranking.normalized_discounted_cumulative_gain(10))\n",
    "print(\"Normal distriburion search result:\", norm_ranking.normalized_discounted_cumulative_gain(10))\n",
    "print(\"Exponential distribution search result:\", expon_ranking.normalized_discounted_cumulative_gain(10))\n",
    "print()\n",
    "print(\"F_beta score at 10 for 3 different distribution:\")\n",
    "print(\"Chi2 distribution search result:\", chi_ranking.F_beta_score(10, 0.5))\n",
    "print(\"Normal distriburion search result:\", norm_ranking.F_beta_score(10, 0.5))\n",
    "print(\"Exponential distribution search result:\", expon_ranking.F_beta_score(10, 0.5))\n",
    "print()\n",
    "print(\"Reciprocal Rank for 3 different distribution:\")\n",
    "print(\"Chi2 distribution search result:\", chi_ranking.reciprocal_rank())\n",
    "print(\"Normal distriburion search result:\", norm_ranking.reciprocal_rank())\n",
    "print(\"Exponential distribution search result:\", expon_ranking.reciprocal_rank())"
   ]
  }
 ],
 "metadata": {
  "kernelspec": {
   "display_name": "Python 3",
   "language": "python",
   "name": "python3"
  },
  "language_info": {
   "codemirror_mode": {
    "name": "ipython",
    "version": 3
   },
   "file_extension": ".py",
   "mimetype": "text/x-python",
   "name": "python",
   "nbconvert_exporter": "python",
   "pygments_lexer": "ipython3",
   "version": "3.11.9"
  }
 },
 "nbformat": 4,
 "nbformat_minor": 5
}
